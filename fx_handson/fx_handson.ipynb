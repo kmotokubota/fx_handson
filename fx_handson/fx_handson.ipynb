{
 "metadata": {
  "language_info": {
   "name": "python"
  },
  "lastEditStatus": {
   "notebookId": "q5mo6a4pci3uwwqb622a",
   "authorId": "9193139562788",
   "authorName": "KMOTOKUBOTA",
   "authorEmail": "kosuke.motokubota@snowflake.com",
   "sessionId": "e59e0091-a8cb-458f-a15d-239f0d19d4ff",
   "lastEditTime": 1760436363044
  }
 },
 "nbformat_minor": 2,
 "nbformat": 4,
 "cells": [
  {
   "cell_type": "markdown",
   "metadata": {
    "name": "title",
    "collapsed": false
   },
   "source": "# マーケットプレイスのデータを使用したSnowflakeでの分析体験\n## テーマ: 為替データ分析\nこのハンズオンでは、Snowflakeの[公開データセット](https://app.snowflake.com/marketplace/listing/GZTSZ290BV255/snowflake-public-data-products-snowflake-public-data-free)を使って為替データの分析方法を学びます（ただし無料版はデータに3ヶ月のラグがありますのでご注意ください）。\n\n**学習内容:**\n- Snowflakeの基本的なSQL操作\n- 為替データの取得と分析\n- データ加工とテーブル作成\n- Streamlitを使った可視化\n- LLMを使用した分析\n\n![img](https://lh3.googleusercontent.com/pw/AP1GczMB-82X1YDWy5XDmfd3_GqvVuImZtEtexijb27oSWUSglk8LB-qSQY_-7C-Q7iAhNMiewaVccyKDDek6EfR6ZqLgny_LKwksm5_PfM64ynKwmMtPlv_3I6tGwFWhnSQ74OJbSFo3z5jZzL9nRp8pZm2=w960-h540-s-no-gm?authuser=0)",
   "id": "ce110000-1111-2222-3333-ffffff000000"
  },
  {
   "cell_type": "markdown",
   "id": "d538df70-3995-4362-9a28-e9a6ea2561f2",
   "metadata": {
    "name": "package_install",
    "collapsed": false
   },
   "source": "## 事前準備\n-  パッケージより`modin`, `matplotlib`, `plotly`をインストール"
  },
  {
   "cell_type": "markdown",
   "id": "b6ddc287-4103-43e1-b911-2c569182de63",
   "metadata": {
    "name": "marketplace",
    "collapsed": false
   },
   "source": "## MarketplaceからSNOWFLAKE_PUBLIC_DATA_FREEを取得\n画面左手のサイドバーより「Marketplace」を選択し、検索ボックスに「Snowflake Public Data Cloud」と入力して下記の画像の画面を開き、右上の取得ボタンをクリック\n\n![img](https://lh3.googleusercontent.com/pw/AP1GczNnsLhzgRDuXN1f9zoOPzGpQGfqd_aNXNO89gAO2dR4zjyn-gfTIqRpsz4wGL4lmnnqoHzXmGFLk8-_Mtbl2-EW1qwXDs2DnOUuOBKm_CkNubpjvhy3DbsBAd3f5mksQz7LqIAThymKesqUZ0PRBKL_=w1501-h882-s-no-gm?authuser=0)\n"
  },
  {
   "cell_type": "markdown",
   "metadata": {
    "name": "part1_handson",
    "collapsed": false
   },
   "source": "## Part 1: データの確認\n\nまずは、Snowflakeに用意されている為替データを確認しましょう。\n\n### 使用するデータセット\n- **データソース**: `SNOWFLAKE_PUBLIC_DATA_FREE.PUBLIC_DATA_FREE.FX_RATES_TIMESERIES`\n- **内容**: 複数の通貨ペアの為替レート履歴データ\n\n![img](https://lh3.googleusercontent.com/pw/AP1GczMUr7YO8FSVzpbqiw17FB_LydSg-gUA8BfhgmVCMS-AXvML2b-ZAeOpw4cjQM4A-iIyEKBp4Zkgvq85gxsogA0n8ptch862bG95Dd0nrw-ynpEFL8-Rd8oDlkCFVjEZ7X3ZwhChcIrDf1LlNoLEa8cA=w960-h540-s-no-gm?authuser=0)",
   "id": "ce110000-1111-2222-3333-ffffff000002"
  },
  {
   "cell_type": "code",
   "execution_count": null,
   "metadata": {
    "vscode": {
     "languageId": "sql"
    },
    "name": "check_fx_timeseries",
    "language": "sql"
   },
   "outputs": [],
   "source": "-- 為替データの最初の10件を確認\nSELECT *\nFROM SNOWFLAKE_PUBLIC_DATA_FREE.PUBLIC_DATA_FREE.FX_RATES_TIMESERIES\nLIMIT 10;",
   "id": "ce110000-1111-2222-3333-ffffff000004"
  },
  {
   "cell_type": "markdown",
   "metadata": {
    "name": "check_data_type"
   },
   "source": [
    "**データ項目の説明:**\n",
    "- `BASE_CURRENCY_ID`: 基軸通貨（例: USD）\n",
    "- `QUOTE_CURRENCY_ID`: 決済通貨（例: JPY）\n",
    "- `DATE`: 日付\n",
    "- `VALUE`: 為替レート\n",
    "- `VARIABLE_NAME`: 通貨ペア名\n"
   ],
   "id": "ce110000-1111-2222-3333-ffffff000005"
  },
  {
   "cell_type": "markdown",
   "metadata": {
    "name": "check_USDJPY",
    "collapsed": false
   },
   "source": "### USD/JPYの最新データを確認\n\nUSD/JPYの通貨ペアのデータを見てみましょう。",
   "id": "ce110000-1111-2222-3333-ffffff000006"
  },
  {
   "cell_type": "code",
   "execution_count": null,
   "metadata": {
    "vscode": {
     "languageId": "sql"
    },
    "name": "USDJPY_data",
    "language": "sql"
   },
   "outputs": [],
   "source": "-- USD/JPYの最新20件のデータを取得\nSELECT\n    DATE,\n    BASE_CURRENCY_ID,\n    QUOTE_CURRENCY_ID,\n    VALUE AS EXCHANGE_RATE,\n    VARIABLE_NAME\nFROM SNOWFLAKE_PUBLIC_DATA_FREE.PUBLIC_DATA_FREE.FX_RATES_TIMESERIES\nWHERE BASE_CURRENCY_ID = 'USD'\n    AND QUOTE_CURRENCY_ID = 'JPY'\nORDER BY DATE DESC\nLIMIT 20;",
   "id": "ce110000-1111-2222-3333-ffffff000007"
  },
  {
   "cell_type": "markdown",
   "metadata": {
    "name": "check_other_currency",
    "collapsed": false
   },
   "source": "### 利用可能な通貨ペアを確認\n\nどのような通貨ペアのデータがあるか確認してみましょう。\n",
   "id": "ce110000-1111-2222-3333-ffffff000008"
  },
  {
   "cell_type": "code",
   "execution_count": null,
   "metadata": {
    "vscode": {
     "languageId": "sql"
    },
    "name": "other_data",
    "language": "sql"
   },
   "outputs": [],
   "source": "-- 利用可能な通貨ペアを確認（直近100日分）\nSELECT DISTINCT\n    BASE_CURRENCY_ID,\n    QUOTE_CURRENCY_ID,\n    BASE_CURRENCY_NAME,\n    QUOTE_CURRENCY_NAME,\n    COUNT(*) AS DATA_COUNT\nFROM SNOWFLAKE_PUBLIC_DATA_FREE.PUBLIC_DATA_FREE.FX_RATES_TIMESERIES\nWHERE DATE >= CURRENT_DATE - 100\nGROUP BY 1, 2, 3, 4\nORDER BY BASE_CURRENCY_ID, QUOTE_CURRENCY_ID;",
   "id": "ce110000-1111-2222-3333-ffffff000009"
  },
  {
   "cell_type": "markdown",
   "metadata": {
    "name": "part2_handson",
    "collapsed": false
   },
   "source": "## Part 2: データ分析の基礎\nSQLを使って為替データを分析してみましょう。\n",
   "id": "ce110000-1111-2222-3333-ffffff000010"
  },
  {
   "cell_type": "markdown",
   "metadata": {
    "name": "basic_statistics",
    "collapsed": false
   },
   "source": "### 基本統計量の計算\n\nUSD/JPYの過去1年間の統計情報を取得します。\n",
   "id": "ce110000-1111-2222-3333-ffffff000011"
  },
  {
   "cell_type": "code",
   "execution_count": null,
   "metadata": {
    "vscode": {
     "languageId": "sql"
    },
    "name": "USDJPY_statistics",
    "language": "sql"
   },
   "outputs": [],
   "source": "-- USD/JPYの過去1年間の基本統計\nSELECT\n    BASE_CURRENCY_ID || '/' || QUOTE_CURRENCY_ID AS CURRENCY_PAIR,\n    COUNT(*) AS TOTAL_DAYS,\n    ROUND(AVG(VALUE), 2) AS AVERAGE_RATE,\n    ROUND(MIN(VALUE), 2) AS MIN_RATE,\n    ROUND(MAX(VALUE), 2) AS MAX_RATE,\n    ROUND(MAX(VALUE) - MIN(VALUE), 2) AS RANGE,\n    ROUND(STDDEV(VALUE), 2) AS VOLATILITY\nFROM SNOWFLAKE_PUBLIC_DATA_FREE.PUBLIC_DATA_FREE.FX_RATES_TIMESERIES\nWHERE BASE_CURRENCY_ID = 'USD'\n    AND QUOTE_CURRENCY_ID = 'JPY'\n    AND DATE >= CURRENT_DATE - 365\nGROUP BY 1;",
   "id": "ce110000-1111-2222-3333-ffffff000012"
  },
  {
   "cell_type": "markdown",
   "metadata": {
    "name": "time_slice",
    "collapsed": false
   },
   "source": "### 月次の為替レート推移\n\n**TIME_SLICE関数**を使って、月次の平均為替レートを計算します。\n![img](https://lh3.googleusercontent.com/pw/AP1GczNZfBn8uy_ynf_oLFdat4KGwl1sextzB-QUzH6vBCL-JnMkWRpWOj03AUeCAvYFX_eDemnJ_QtrIq0YHUcqRKGbPJZpn7UBC7WYCDqnhMEc0Cb6ib-Ia7TVPshmfIzrX3xbHS9d_mLPYBZJi232ivba=w1149-h646-s-no-gm?authuser=0)\n- TIME_SLICE 関数を使用して、1週間の平均価格、取引日数、平均最安値、平均最高値を抽出するSQLを簡単に作成\n- TIME_SLICE 関数は指定した時間単位に基づいて、タイムスタンプを時間、日、週などの一貫した間隔にデータを分割することが可能\n- ユースケース: 特定の銘柄の平均価格や取引量の増減などの傾向を特定など",
   "id": "ce110000-1111-2222-3333-ffffff000013"
  },
  {
   "cell_type": "code",
   "execution_count": null,
   "metadata": {
    "vscode": {
     "languageId": "sql"
    },
    "name": "monthly_fx_rate",
    "language": "sql"
   },
   "outputs": [],
   "source": "-- 月次の平均為替レート\nSELECT\n    TIME_SLICE(DATE, 1, 'MONTH', 'START') AS month,\n    ROUND(AVG(VALUE), 2) AS MONTHLY_AVG_RATE,\n    ROUND(MIN(VALUE), 2) AS MONTHLY_MIN_RATE,\n    ROUND(MAX(VALUE), 2) AS MONTHLY_MAX_RATE,\n    COUNT(*) AS TRADING_DAYS\nFROM SNOWFLAKE_PUBLIC_DATA_FREE.PUBLIC_DATA_FREE.FX_RATES_TIMESERIES\nWHERE BASE_CURRENCY_ID = 'USD'\n    AND QUOTE_CURRENCY_ID = 'JPY'\n    AND DATE >= '2024-01-01'\nGROUP BY TIME_SLICE(DATE, 1, 'MONTH', 'START')\nORDER BY MONTH DESC;",
   "id": "ce110000-1111-2222-3333-ffffff000014"
  },
  {
   "cell_type": "markdown",
   "metadata": {
    "name": "lag_function",
    "collapsed": false
   },
   "source": "### 日次変動率の計算\n\n**LAG関数**を使って前日比の変動を計算します。\n",
   "id": "ce110000-1111-2222-3333-ffffff000015"
  },
  {
   "cell_type": "code",
   "execution_count": null,
   "metadata": {
    "vscode": {
     "languageId": "sql"
    },
    "name": "daily_percent_change",
    "language": "sql"
   },
   "outputs": [],
   "source": "-- 日次変動率の計算（最新30日分）\nSELECT\n    DATE,\n    VALUE AS CURRENT_RATE,\n    LAG(VALUE, 1) OVER (ORDER BY DATE) AS PREVIOUS_RATE,\n    ROUND(VALUE - LAG(VALUE, 1) OVER (ORDER BY DATE), 4) AS DAILY_CHANGE,\n    ROUND((VALUE - LAG(VALUE, 1) OVER (ORDER BY DATE)) / LAG(VALUE, 1) OVER (ORDER BY DATE) * 100, 2) AS CHANGE_PERCENT\nFROM SNOWFLAKE_PUBLIC_DATA_FREE.PUBLIC_DATA_FREE.FX_RATES_TIMESERIES\nWHERE BASE_CURRENCY_ID = 'USD'\n    AND QUOTE_CURRENCY_ID = 'JPY'\n    AND DATE >= CURRENT_DATE - 200\nORDER BY DATE DESC\nLIMIT 30;",
   "id": "ce110000-1111-2222-3333-ffffff000016"
  },
  {
   "cell_type": "markdown",
   "metadata": {
    "name": "part3_handson",
    "collapsed": false
   },
   "source": "## Part 3: データ加工とテーブル作成\n\n分析用のテーブルを作成し、移動平均などの指標を追加します。\n![img](https://lh3.googleusercontent.com/pw/AP1GczPgbjDk9s2RF8tVmEN62wy0rgfU5qXf3zmwURB_LdxzjD1qAcVzmcxclSHOtAjX3dmupn5cJRcvISLOo6RZfCg00DVVyQNgIC6b504lpyqDhxjdFsUOBpoA85rGth7bmH3pj1EdatlPcJitYihyuArr=w960-h540-s-no-gm?authuser=0)",
   "id": "ce110000-1111-2222-3333-ffffff000017"
  },
  {
   "cell_type": "markdown",
   "metadata": {
    "name": "moving_average",
    "collapsed": false
   },
   "source": "### 移動平均を含むテーブルの作成\n\n**移動平均線**は、トレンドを把握するための重要な指標です。\n\n- **5日移動平均**: 短期トレンド\n- **20日移動平均**: 中期トレンド\n- **50日移動平均**: 長期トレンド\n",
   "id": "ce110000-1111-2222-3333-ffffff000018"
  },
  {
   "cell_type": "code",
   "execution_count": null,
   "metadata": {
    "vscode": {
     "languageId": "sql"
    },
    "name": "create_ma_table",
    "language": "sql"
   },
   "outputs": [],
   "source": "-- ハンズオン用のドル円為替データに移動平均を追加したテーブルを作成\nCREATE OR REPLACE TABLE FX_USDJPY_ANALYSIS AS\nSELECT\n    DATE,\n    BASE_CURRENCY_ID,\n    QUOTE_CURRENCY_ID,\n    VALUE AS EXCHANGE_RATE,\n    \n    -- 移動平均の計算\n    AVG(VALUE) OVER (\n        ORDER BY DATE \n        ROWS BETWEEN 4 PRECEDING AND CURRENT ROW\n    ) AS MA_5,\n    \n    AVG(VALUE) OVER (\n        ORDER BY DATE \n        ROWS BETWEEN 19 PRECEDING AND CURRENT ROW\n    ) AS MA_20,\n    \n    AVG(VALUE) OVER (\n        ORDER BY DATE \n        ROWS BETWEEN 49 PRECEDING AND CURRENT ROW\n    ) AS MA_50,\n    \n    -- 日次リターン\n    (VALUE - LAG(VALUE, 1) OVER (ORDER BY DATE)) / LAG(VALUE, 1) OVER (ORDER BY DATE) * 100 AS DAILY_RETURN\n    \nFROM SNOWFLAKE_PUBLIC_DATA_FREE.PUBLIC_DATA_FREE.FX_RATES_TIMESERIES\nWHERE BASE_CURRENCY_ID = 'USD'\n    AND QUOTE_CURRENCY_ID = 'JPY'\n    AND DATE >= '2023-01-01'\nORDER BY DATE DESC;",
   "id": "ce110000-1111-2222-3333-ffffff000019"
  },
  {
   "cell_type": "markdown",
   "metadata": {
    "name": "check_table_for_analysis",
    "collapsed": false
   },
   "source": "### 作成したテーブルを確認\n",
   "id": "ce110000-1111-2222-3333-ffffff000020"
  },
  {
   "cell_type": "code",
   "execution_count": null,
   "metadata": {
    "vscode": {
     "languageId": "sql"
    },
    "name": "table_for_analysis",
    "language": "sql"
   },
   "outputs": [],
   "source": "-- 作成したテーブルの内容を確認\nSELECT *\nFROM FX_USDJPY_ANALYSIS\nORDER BY DATE DESC\nLIMIT 20;",
   "id": "ce110000-1111-2222-3333-ffffff000021"
  },
  {
   "cell_type": "markdown",
   "metadata": {
    "name": "trend_analysis",
    "collapsed": false
   },
   "source": "### 現在のトレンドを分析\n\n移動平均線の位置関係から、現在のトレンドを判断します。\n",
   "id": "ce110000-1111-2222-3333-ffffff000022"
  },
  {
   "cell_type": "code",
   "execution_count": null,
   "metadata": {
    "vscode": {
     "languageId": "sql"
    },
    "name": "check_fx_trend",
    "language": "sql"
   },
   "outputs": [],
   "source": "-- トレンド分析\nSELECT\n    DATE,\n    ROUND(EXCHANGE_RATE, 2) AS RATE,\n    ROUND(MA_5, 2) AS MA_5,\n    ROUND(MA_20, 2) AS MA_20,\n    ROUND(MA_50, 2) AS MA_50,\n    CASE\n        WHEN EXCHANGE_RATE > MA_5 AND MA_5 > MA_20 AND MA_20 > MA_50 THEN '強い上昇トレンド'\n        WHEN EXCHANGE_RATE > MA_20 THEN '上昇トレンド'\n        WHEN EXCHANGE_RATE < MA_5 AND MA_5 < MA_20 AND MA_20 < MA_50 THEN '強い下降トレンド'\n        WHEN EXCHANGE_RATE < MA_20 THEN '下降トレンド'\n        ELSE 'レンジ相場'\n    END AS TREND_STATUS\nFROM FX_USDJPY_ANALYSIS\nWHERE DATE >= CURRENT_DATE - 200\nORDER BY DATE DESC\nLIMIT 10;",
   "id": "ce110000-1111-2222-3333-ffffff000023"
  },
  {
   "cell_type": "markdown",
   "id": "385b01d1-bb2f-4f41-91ce-0c85e55645a5",
   "metadata": {
    "name": "pandas_api",
    "collapsed": false
   },
   "source": "### 参考）Snowflake Pandas APIを使ってデータ加工と可視化を試す\n- Snowpark pandas APIはSnowpark Pythonの一部として提供されるライブラリです。既存の pandas コードをほとんど書き換えずに、Snowflake 上で分散処理として実行できるように設計されています。\n\nSnowpark DataFrame APIを選ぶ場合:\n- データエンジニアやSQL開発者で、SQLの思考法に慣れている。\n- Apache Spark (PySpark) の経験があり、似たようなAPIを使いたい。\n\nSnowflake Pandas APIを選ぶ場合:\n- Pandasの経験があり、その知識を活用したい。\n- ローカルで開発したPandasのコードを、最小限の変更でSnowflakeのスケーラブルな環境に移行したい。"
  },
  {
   "cell_type": "code",
   "id": "8d64567e-08ec-4004-87b5-08e16a41a39d",
   "metadata": {
    "language": "python",
    "name": "practice_pandas_api"
   },
   "outputs": [],
   "source": "# Snowflake Pandas APIを使ったUSD/JPY為替データの基本分析\n# ライブラリのインポート\nimport modin.pandas as pd\nimport snowflake.snowpark.modin.plugin\nfrom snowflake.snowpark.context import get_active_session\nimport matplotlib.pyplot as plt\n\n# データ読み込み\nsession = get_active_session()\npd.session = session \ndf = pd.read_snowflake(\"FX_USDJPY_ANALYSIS\")\n\n# データをソート\ndf = df.sort_values('DATE')\nprint(f\"\\n📊 データ件数: {len(df)}件\")\n\n# 過去180日間のデータに絞る（可視化のため）\ndf_recent = df.tail(180)\nprint(f\"📅 直近180日間のデータで分析: {len(df_recent)}件\")\n\n# === データ加工 ===\n# 日次リターン（前日比変化率）が既に計算されているか確認\nif 'DAILY_RETURN' not in df_recent.columns:\n    df_recent['DAILY_RETURN'] = ((df_recent['EXCHANGE_RATE'] - df_recent['EXCHANGE_RATE'].shift(1)) \n                                   / df_recent['EXCHANGE_RATE'].shift(1)) * 100\n\n# 基本統計\nprint(f\"\\n📈 基本統計情報:\")\nprint(f\"  平均レート: ¥{df_recent['EXCHANGE_RATE'].mean():.2f}\")\nprint(f\"  最高値: ¥{df_recent['EXCHANGE_RATE'].max():.2f}\")\nprint(f\"  最安値: ¥{df_recent['EXCHANGE_RATE'].min():.2f}\")\nprint(f\"  平均日次変動率: {df_recent['DAILY_RETURN'].mean():.2f}%\")\nprint(f\"  ボラティリティ（標準偏差）: {df_recent['EXCHANGE_RATE'].std():.2f}\")\n\n# === 可視化 ===\nplt.figure(figsize=(15, 8))\n\n# 1. 為替レートチャート（移動平均付き）\nplt.subplot(2, 1, 1)\nplt.plot(df_recent['DATE'], df_recent['EXCHANGE_RATE'], \n         label='USD/JPY Rate', color='blue', linewidth=2)\nplt.plot(df_recent['DATE'], df_recent['MA_20'], \n         label='20-day MA', color='orange', linestyle='--', linewidth=1.5)\nplt.plot(df_recent['DATE'], df_recent['MA_50'], \n         label='50-day MA', color='red', linestyle='--', linewidth=1.5)\nplt.title('USD/JPY Exchange Rate Trend', fontsize=14, fontweight='bold')\nplt.ylabel('Rate (JPY)', fontsize=12)\nplt.legend(loc='best')\nplt.grid(True, alpha=0.3)\n\n# 2. 日次変動率チャート\nplt.subplot(2, 1, 2)\n# 日次変動率に応じて色を設定（正の値は緑、負の値は赤）\ncolors = ['red' if x < 0 else 'green' for x in df_recent['DAILY_RETURN']]\nplt.bar(df_recent['DATE'], df_recent['DAILY_RETURN'], color=colors, alpha=0.6)\nplt.axhline(y=0, color='black', linestyle='-', linewidth=0.5)\nplt.title('Daily Return (%)', fontsize=14, fontweight='bold')\nplt.ylabel('Return (%)', fontsize=12)\nplt.xlabel('Date', fontsize=12)\nplt.grid(True, alpha=0.3)\n\nplt.tight_layout()\nplt.show()",
   "execution_count": null
  },
  {
   "cell_type": "markdown",
   "metadata": {
    "name": "part4_handson",
    "collapsed": false
   },
   "source": "## Part 4: Streamlitで可視化\n\nStreamlitを使って、為替データを可視化するダッシュボードを作成します。\n\n### Streamlitとは？\n- PythonだけでWebアプリを作成できるフレームワーク\n- HTML/CSSの知識不要\n- データサイエンスのプロトタイプ作成に最適\n\n![img](https://lh3.googleusercontent.com/pw/AP1GczNDxLHiIOf4GU6YBm35uIoPXMzzkTeOq0sJcwAhOOOdTrPKDmZmzx1WgWEIAkwM5T6syE7_ZBsS11tslwoxGBBQg3OacwZBndbwi3I6_F-Zv5YW8IEhctbk-fm5EGm4kzKE9nqdB5uHCzb1TVl_9e2y=w960-h540-s-no-gm?authuser=0)\n\n![img](https://lh3.googleusercontent.com/pw/AP1GczMhp7CFMU7LnrNkc6izujuwTnUDfVTkOAtAWF-pBQsOONqjsrsllpe7OVUn66AhcJNtommDtzUnHl0Los8H88rIqBz-n2yajpR9Z4HJzjxXrLb_6f77KRBUI4kQ9mnehPYUXDdA66OwsnYg2wwWuz_R=w1042-h617-s-no-gm?authuser=0)",
   "id": "ce110000-1111-2222-3333-ffffff000024"
  },
  {
   "cell_type": "markdown",
   "metadata": {
    "name": "step1",
    "collapsed": false
   },
   "source": "### Step 1: 基本構造 - タイトルとデータ取得\n\nまずは、タイトルを表示してデータを取得する基本的な構造を作ります。\n#### 参考）Snowpark Pythonを使った表現\n- Snowpark Python は、Snowflake 上で「データを外に持ち出さずに」Python コードを実行できる開発フレームワーク\n- つまりSnowflake 内で完結する大規模データ処理を、Python の書き慣れた文法で実装できる」フレームワーク\n- SQL と Python をシームレスに組み合わせたいデータエンジニア／データサイエンティストに最適なソリューション\n",
   "id": "ce110000-1111-2222-3333-ffffff000025"
  },
  {
   "cell_type": "code",
   "execution_count": null,
   "metadata": {
    "name": "step1_practice",
    "language": "python"
   },
   "outputs": [],
   "source": "# 必要なライブラリをインポート\nimport streamlit as st\nimport pandas as pd\nfrom snowflake.snowpark.context import get_active_session\nfrom datetime import date, timedelta\n\n# タイトル設定\nst.title(\"💱 USD/JPY 為替レート分析\")\nst.markdown(\"### Snowflake ハンズオン\")\n\n# Snowflakeセッション取得\nsession = get_active_session()\n\n# データ取得関数（キャッシュ機能付き）\n@st.cache_data\ndef get_fx_data(start_date, end_date):\n    \"\"\"為替データを取得する関数\"\"\"\n    query = f\"\"\"\n    SELECT * FROM FX_USDJPY_ANALYSIS\n    WHERE DATE >= '{start_date}' AND DATE <= '{end_date}'\n    ORDER BY DATE ASC\n    \"\"\"\n    result = session.sql(query)\n    return result.to_pandas()\n\n# デフォルト日付設定（過去6ヶ月）\ndefault_start = date.today() - timedelta(days=180)\ndefault_end = date.today()\n\ndf = get_fx_data(default_start, default_end)\n\n# データ確認\nst.markdown(\"#### 📊 取得したデータの確認\")\nst.write(f\"期間: {default_start} ～ {default_end}\")\nst.write(f\"データ件数: {len(df)}件\")\nst.dataframe(df.head(10))",
   "id": "ce110000-1111-2222-3333-ffffff000026"
  },
  {
   "cell_type": "markdown",
   "metadata": {
    "name": "step2",
    "collapsed": false
   },
   "source": [
    "### Step 2: 日付選択とメトリクス表示\n",
    "\n",
    "ユーザーが期間を選択できるようにし、重要な指標を表示します。\n"
   ],
   "id": "ce110000-1111-2222-3333-ffffff000027"
  },
  {
   "cell_type": "code",
   "execution_count": null,
   "metadata": {
    "name": "step2_practice",
    "language": "python"
   },
   "outputs": [],
   "source": [
    "# 日付選択UI\n",
    "st.markdown(\"### 📅 期間選択\")\n",
    "col1, col2 = st.columns(2)\n",
    "\n",
    "with col1:\n",
    "    start_date = st.date_input(\n",
    "        \"開始日\",\n",
    "        value=date.today() - timedelta(days=180)\n",
    "    )\n",
    "\n",
    "with col2:\n",
    "    end_date = st.date_input(\n",
    "        \"終了日\",\n",
    "        value=date.today()\n",
    "    )\n",
    "\n",
    "# データ取得\n",
    "with st.spinner(f\"📊 {start_date} から {end_date} のデータを読み込み中...\"):\n",
    "    df = get_fx_data(start_date, end_date)\n",
    "\n",
    "# データが空の場合の処理\n",
    "if df.empty:\n",
    "    st.warning(\"⚠️ 選択した期間にはデータがありません。期間を変更してください。\")\n",
    "    st.stop()\n",
    "\n",
    "# メトリクス計算\n",
    "latest_rate = df['EXCHANGE_RATE'].iloc[-1]\n",
    "previous_rate = df['EXCHANGE_RATE'].iloc[-2] if len(df) > 1 else latest_rate\n",
    "rate_change = ((latest_rate / previous_rate) - 1) * 100 if previous_rate != 0 else 0\n",
    "latest_ma50 = df['MA_50'].iloc[-1] if pd.notna(df['MA_50'].iloc[-1]) else 0\n",
    "\n",
    "# メトリクス表示\n",
    "st.markdown(\"### 📊 主要指標\")\n",
    "col1, col2, col3, col4 = st.columns(4)\n",
    "\n",
    "with col1:\n",
    "    st.metric(\n",
    "        \"現在レート\",\n",
    "        f\"¥{latest_rate:.2f}\",\n",
    "        f\"{rate_change:+.2f}%\" if len(df) > 1 else \"N/A\"\n",
    "    )\n",
    "\n",
    "with col2:\n",
    "    st.metric(\n",
    "        \"期間最高値\",\n",
    "        f\"¥{df['EXCHANGE_RATE'].max():.2f}\"\n",
    "    )\n",
    "\n",
    "with col3:\n",
    "    st.metric(\n",
    "        \"期間最安値\",\n",
    "        f\"¥{df['EXCHANGE_RATE'].min():.2f}\"\n",
    "    )\n",
    "\n",
    "with col4:\n",
    "    st.metric(\n",
    "        \"50日移動平均\",\n",
    "        f\"¥{latest_ma50:.2f}\",\n",
    "        f\"{'レートより上' if latest_rate > latest_ma50 else 'レートより下'}\"\n",
    "    )\n"
   ],
   "id": "ce110000-1111-2222-3333-ffffff000028"
  },
  {
   "cell_type": "markdown",
   "metadata": {
    "name": "step3",
    "collapsed": false
   },
   "source": "### Step 3: 統計情報の追加",
   "id": "ce110000-1111-2222-3333-ffffff000029"
  },
  {
   "cell_type": "code",
   "execution_count": null,
   "metadata": {
    "name": "step3_practice",
    "language": "python"
   },
   "outputs": [],
   "source": [
    "# 統計情報の表示\n",
    "st.markdown(\"### 📈 統計情報\")\n",
    "col1, col2 = st.columns(2)\n",
    "\n",
    "with col1:\n",
    "    st.markdown(\"#### 為替レート統計\")\n",
    "    rate_stats = pd.DataFrame({\n",
    "        '指標': ['現在レート', '平均レート', '最高値', '最安値', '変動幅', 'ボラティリティ'],\n",
    "        '値': [\n",
    "            f\"¥{df['EXCHANGE_RATE'].iloc[-1]:.2f}\",\n",
    "            f\"¥{df['EXCHANGE_RATE'].mean():.2f}\",\n",
    "            f\"¥{df['EXCHANGE_RATE'].max():.2f}\",\n",
    "            f\"¥{df['EXCHANGE_RATE'].min():.2f}\",\n",
    "            f\"¥{df['EXCHANGE_RATE'].max() - df['EXCHANGE_RATE'].min():.2f}\",\n",
    "            f\"{df['EXCHANGE_RATE'].std():.2f}\"\n",
    "        ]\n",
    "    })\n",
    "    st.dataframe(rate_stats, hide_index=True, use_container_width=True)\n",
    "\n",
    "with col2:\n",
    "    st.markdown(\"#### 移動平均線\")\n",
    "    ma_stats = pd.DataFrame({\n",
    "        '指標': ['5日移動平均', '20日移動平均', '50日移動平均', '現在の位置'],\n",
    "        '値': [\n",
    "            f\"¥{df['MA_5'].iloc[-1]:.2f}\" if pd.notna(df['MA_5'].iloc[-1]) else 'N/A',\n",
    "            f\"¥{df['MA_20'].iloc[-1]:.2f}\" if pd.notna(df['MA_20'].iloc[-1]) else 'N/A',\n",
    "            f\"¥{df['MA_50'].iloc[-1]:.2f}\" if pd.notna(df['MA_50'].iloc[-1]) else 'N/A',\n",
    "            '移動平均線より上' if latest_rate > latest_ma50 else '移動平均線より下'\n",
    "        ]\n",
    "    })\n",
    "    st.dataframe(ma_stats, hide_index=True, use_container_width=True)\n"
   ],
   "id": "ce110000-1111-2222-3333-ffffff000030"
  },
  {
   "cell_type": "markdown",
   "metadata": {
    "name": "step4",
    "collapsed": false
   },
   "source": [
    "### Step 4: グラフの作成\n",
    "\n",
    "Plotlyを使って、為替レートと移動平均線をグラフ化します。\n"
   ],
   "id": "ce110000-1111-2222-3333-ffffff000031"
  },
  {
   "cell_type": "code",
   "execution_count": null,
   "metadata": {
    "name": "step4_practice",
    "language": "python"
   },
   "outputs": [],
   "source": [
    "import plotly.graph_objects as go\n",
    "\n",
    "st.markdown(\"### 📈 為替レート推移グラフ\")\n",
    "\n",
    "# グラフの作成\n",
    "fig = go.Figure()\n",
    "\n",
    "# 為替レート\n",
    "fig.add_trace(\n",
    "    go.Scatter(\n",
    "        x=df['DATE'],\n",
    "        y=df['EXCHANGE_RATE'],\n",
    "        mode='lines',\n",
    "        name='為替レート',\n",
    "        line=dict(color='#1f77b4', width=2),\n",
    "        hovertemplate='日付: %{x|%Y-%m-%d}<br>レート: ¥%{y:.2f}<extra></extra>'\n",
    "    )\n",
    ")\n",
    "\n",
    "# 5日移動平均\n",
    "fig.add_trace(\n",
    "    go.Scatter(\n",
    "        x=df['DATE'],\n",
    "        y=df['MA_5'],\n",
    "        mode='lines',\n",
    "        name='5日移動平均',\n",
    "        line=dict(color='#90EE90', width=1),\n",
    "        hovertemplate='日付: %{x|%Y-%m-%d}<br>5日MA: ¥%{y:.2f}<extra></extra>'\n",
    "    )\n",
    ")\n",
    "\n",
    "# 20日移動平均\n",
    "fig.add_trace(\n",
    "    go.Scatter(\n",
    "        x=df['DATE'],\n",
    "        y=df['MA_20'],\n",
    "        mode='lines',\n",
    "        name='20日移動平均',\n",
    "        line=dict(color='#FFA500', width=1),\n",
    "        hovertemplate='日付: %{x|%Y-%m-%d}<br>20日MA: ¥%{y:.2f}<extra></extra>'\n",
    "    )\n",
    ")\n",
    "\n",
    "# 50日移動平均\n",
    "fig.add_trace(\n",
    "    go.Scatter(\n",
    "        x=df['DATE'],\n",
    "        y=df['MA_50'],\n",
    "        mode='lines',\n",
    "        name='50日移動平均',\n",
    "        line=dict(color='#FF4444', width=1, dash='dash'),\n",
    "        hovertemplate='日付: %{x|%Y-%m-%d}<br>50日MA: ¥%{y:.2f}<extra></extra>'\n",
    "    )\n",
    ")\n",
    "\n",
    "# レイアウト設定\n",
    "fig.update_layout(\n",
    "    title='USD/JPY 為替レートと移動平均線',\n",
    "    xaxis_title='日付',\n",
    "    yaxis_title='為替レート (円)',\n",
    "    height=500,\n",
    "    hovermode='x unified',\n",
    "    showlegend=True,\n",
    "    legend=dict(\n",
    "        orientation=\"h\",\n",
    "        yanchor=\"bottom\",\n",
    "        y=1.02,\n",
    "        xanchor=\"right\",\n",
    "        x=1\n",
    "    )\n",
    ")\n",
    "\n",
    "# グラフ表示\n",
    "st.plotly_chart(fig, use_container_width=True)\n"
   ],
   "id": "ce110000-1111-2222-3333-ffffff000032"
  },
  {
   "cell_type": "markdown",
   "metadata": {
    "name": "step5"
   },
   "source": [
    "### Step 5: データテーブルの表示\n",
    "\n",
    "エキスパンダーを使って、詳細なデータテーブルを表示します。\n"
   ],
   "id": "ce110000-1111-2222-3333-ffffff000033"
  },
  {
   "cell_type": "code",
   "execution_count": null,
   "metadata": {
    "name": "step5_practice",
    "language": "python"
   },
   "outputs": [],
   "source": [
    "# データテーブルの表示\n",
    "with st.expander(\"📋 詳細データを表示\", expanded=False):\n",
    "    display_df = df.sort_values('DATE', ascending=False).copy()\n",
    "    display_df['DATE'] = pd.to_datetime(display_df['DATE']).dt.strftime('%Y-%m-%d')\n",
    "    \n",
    "    # 列名を日本語に変更\n",
    "    display_df = display_df.rename(columns={\n",
    "        'DATE': '日付',\n",
    "        'EXCHANGE_RATE': '為替レート',\n",
    "        'MA_5': '5日移動平均',\n",
    "        'MA_20': '20日移動平均',\n",
    "        'MA_50': '50日移動平均',\n",
    "        'DAILY_RETURN': '日次変動率(%)'\n",
    "    })\n",
    "    \n",
    "    # 数値フォーマット\n",
    "    st.dataframe(\n",
    "        display_df[['日付', '為替レート', '5日移動平均', '20日移動平均', '50日移動平均', '日次変動率(%)']].style.format({\n",
    "            '為替レート': '¥{:.2f}',\n",
    "            '5日移動平均': '¥{:.2f}',\n",
    "            '20日移動平均': '¥{:.2f}',\n",
    "            '50日移動平均': '¥{:.2f}',\n",
    "            '日次変動率(%)': '{:.2f}%'\n",
    "        }),\n",
    "        use_container_width=True,\n",
    "        height=400\n",
    "    )\n"
   ],
   "id": "ce110000-1111-2222-3333-ffffff000034"
  },
  {
   "cell_type": "markdown",
   "metadata": {
    "name": "step6",
    "collapsed": false
   },
   "source": "### Step 6: 完成版 - 全要素を組み合わせる\n\nこれまでのステップを1つにまとめた完成版のStreamlitアプリです。",
   "id": "ce110000-1111-2222-3333-ffffff000035"
  },
  {
   "cell_type": "code",
   "execution_count": null,
   "metadata": {
    "name": "step6_practice",
    "language": "python"
   },
   "outputs": [],
   "source": "# ============================================\n# 完成版: USD/JPY 為替レート分析ダッシュボード\n# ============================================\n\nimport streamlit as st\nimport pandas as pd\nimport plotly.graph_objects as go\nfrom snowflake.snowpark.context import get_active_session\nfrom datetime import date, timedelta\n\n# タイトル\nst.title(\"💱 USD/JPY 為替レート分析ダッシュボード\")\nst.markdown(\"### Snowflake ハンズオン\")\nst.markdown(\"---\")\n\n# Snowflakeセッション取得\nsession = get_active_session()\n\n# データ取得関数\n@st.cache_data\ndef get_fx_data(start_date, end_date):\n    query = f\"\"\"\n    SELECT * FROM FX_USDJPY_ANALYSIS\n    WHERE DATE >= '{start_date}' AND DATE <= '{end_date}'\n    ORDER BY DATE ASC\n    \"\"\"\n    result = session.sql(query)\n    return result.to_pandas()\n\n# 期間選択（メインエリア）\nst.subheader(\"📅 期間選択\")\ncol1, col2 = st.columns(2)\n\nwith col1:\n    start_date = st.date_input(\n        \"開始日\",\n        value=date.today() - timedelta(days=180),\n        max_value=date.today()\n    )\n\nwith col2:\n    end_date = st.date_input(\n        \"終了日\",\n        value=date.today(),\n        max_value=date.today()\n    )\n\n# 日付の妥当性チェック\nif start_date > end_date:\n    st.error(\"❌ 開始日は終了日より前の日付を選択してください。\")\n    st.stop()\n\nst.markdown(\"---\")\n\n# データ読み込み\nwith st.spinner(\"データを読み込んでいます...\"):\n    df = get_fx_data(start_date, end_date)\n\nif df.empty:\n    st.warning(\"選択した期間にはデータがありません。期間を変更してください。\")\n    st.stop()\n\n# メトリクス計算\nlatest_rate = df['EXCHANGE_RATE'].iloc[-1]\nprevious_rate = df['EXCHANGE_RATE'].iloc[-2] if len(df) > 1 else latest_rate\nrate_change = ((latest_rate / previous_rate) - 1) * 100 if previous_rate != 0 else 0\nlatest_ma50 = df['MA_50'].iloc[-1] if pd.notna(df['MA_50'].iloc[-1]) else 0\nmax_rate = df['EXCHANGE_RATE'].max()\nmin_rate = df['EXCHANGE_RATE'].min()\n\n# メトリクス表示\ncol1, col2, col3, col4 = st.columns(4)\n\nwith col1:\n    st.metric(\n        \"現在レート\",\n        f\"¥{latest_rate:.2f}\",\n        f\"{rate_change:+.2f}%\" if len(df) > 1 else \"N/A\"\n    )\n\nwith col2:\n    st.metric(\n        \"期間最高値\",\n        f\"¥{max_rate:.2f}\"\n    )\n\nwith col3:\n    st.metric(\n        \"期間最安値\",\n        f\"¥{min_rate:.2f}\"\n    )\n\nwith col4:\n    st.metric(\n        \"50日移動平均\",\n        f\"¥{latest_ma50:.2f}\",\n        f\"{'レートより上' if latest_rate > latest_ma50 else 'レートより下'}\"\n    )\n\nst.markdown(\"---\")\n\n# グラフ表示\nst.subheader(\"📈 為替レート推移\")\n\nfig = go.Figure()\n\n# 為替レート\nfig.add_trace(\n    go.Scatter(\n        x=df['DATE'],\n        y=df['EXCHANGE_RATE'],\n        mode='lines',\n        name='為替レート',\n        line=dict(color='#1f77b4', width=2),\n        hovertemplate='日付: %{x|%Y-%m-%d}<br>レート: ¥%{y:.2f}<extra></extra>'\n    )\n)\n\n# 移動平均線\nfig.add_trace(\n    go.Scatter(\n        x=df['DATE'],\n        y=df['MA_5'],\n        mode='lines',\n        name='5日移動平均',\n        line=dict(color='#90EE90', width=1)\n    )\n)\n\nfig.add_trace(\n    go.Scatter(\n        x=df['DATE'],\n        y=df['MA_20'],\n        mode='lines',\n        name='20日移動平均',\n        line=dict(color='#FFA500', width=1)\n    )\n)\n\nfig.add_trace(\n    go.Scatter(\n        x=df['DATE'],\n        y=df['MA_50'],\n        mode='lines',\n        name='50日移動平均',\n        line=dict(color='#FF4444', width=1, dash='dash')\n    )\n)\n\nfig.update_layout(\n    xaxis_title='日付',\n    yaxis_title='為替レート (円)',\n    height=500,\n    hovermode='x unified',\n    showlegend=True,\n    legend=dict(\n        orientation=\"h\",\n        yanchor=\"bottom\",\n        y=1.02,\n        xanchor=\"right\",\n        x=1\n    )\n)\n\nst.plotly_chart(fig, use_container_width=True)\n\n# 統計情報\nst.markdown(\"---\")\nst.subheader(\"📊 統計情報\")\n\ncol1, col2 = st.columns(2)\n\nwith col1:\n    st.markdown(\"#### 為替レート統計\")\n    rate_stats = pd.DataFrame({\n        '指標': ['現在レート', '平均レート', '最高値', '最安値', '変動幅', 'ボラティリティ'],\n        '値': [\n            f\"¥{latest_rate:.2f}\",\n            f\"¥{df['EXCHANGE_RATE'].mean():.2f}\",\n            f\"¥{max_rate:.2f}\",\n            f\"¥{min_rate:.2f}\",\n            f\"¥{max_rate - min_rate:.2f}\",\n            f\"{df['EXCHANGE_RATE'].std():.2f}\"\n        ]\n    })\n    st.dataframe(rate_stats, hide_index=True, use_container_width=True)\n\nwith col2:\n    st.markdown(\"#### 移動平均線\")\n    ma_stats = pd.DataFrame({\n        '指標': ['5日移動平均', '20日移動平均', '50日移動平均', '現在の位置'],\n        '値': [\n            f\"¥{df['MA_5'].iloc[-1]:.2f}\" if pd.notna(df['MA_5'].iloc[-1]) else 'N/A',\n            f\"¥{df['MA_20'].iloc[-1]:.2f}\" if pd.notna(df['MA_20'].iloc[-1]) else 'N/A',\n            f\"¥{latest_ma50:.2f}\",\n            '移動平均線より上' if latest_rate > latest_ma50 else '移動平均線より下'\n        ]\n    })\n    st.dataframe(ma_stats, hide_index=True, use_container_width=True)\n\n# 詳細データ\nwith st.expander(\"📋 詳細データを表示\", expanded=False):\n    display_df = df.sort_values('DATE', ascending=False).copy()\n    display_df['DATE'] = pd.to_datetime(display_df['DATE']).dt.strftime('%Y-%m-%d')\n    \n    display_df = display_df.rename(columns={\n        'DATE': '日付',\n        'EXCHANGE_RATE': '為替レート',\n        'MA_5': '5日移動平均',\n        'MA_20': '20日移動平均',\n        'MA_50': '50日移動平均',\n        'DAILY_RETURN': '日次変動率(%)'\n    })\n    \n    st.dataframe(\n        display_df[['日付', '為替レート', '5日移動平均', '20日移動平均', '50日移動平均', '日次変動率(%)']].style.format({\n            '為替レート': '¥{:.2f}',\n            '5日移動平均': '¥{:.2f}',\n            '20日移動平均': '¥{:.2f}',\n            '50日移動平均': '¥{:.2f}',\n            '日次変動率(%)': '{:.2f}%'\n        }),\n        use_container_width=True,\n        height=400\n    )\n\n# フッター\nst.markdown(\"---\")\nst.markdown(\n    \"\"\"\n    <div style='text-align: center; color: #666;'>\n        <p>💱 USD/JPY 為替レート分析ダッシュボード | Powered by Snowflake & Streamlit</p>\n        <p style='font-size: 0.8rem;'>Data Source: SNOWFLAKE_PUBLIC_DATA_FREE.PUBLIC_DATA_FREE.FX_RATES_TIMESERIES</p>\n    </div>\n    \"\"\",\n    unsafe_allow_html=True\n)\n",
   "id": "ce110000-1111-2222-3333-ffffff000036"
  },
  {
   "cell_type": "markdown",
   "id": "38f7ae80-c8ab-4300-91e8-88c9395b5df7",
   "metadata": {
    "name": "part5_handson",
    "collapsed": false
   },
   "source": "## Part 5: AI分析（Snowflake Cortex）\n\nSnowflake CortexのAI機能を使って、為替データをより深く分析します。\n\n### Snowflake Cortex AI機能とは？\n- **AI_COMPLETE**: LLMを使った自然言語による分析・洞察の生成\n- **AI_FILTER**: データを自然言語の条件でフィルタリング"
  },
  {
   "cell_type": "markdown",
   "id": "b700ffb8-7946-4ccd-bc41-c6b840726256",
   "metadata": {
    "name": "aisql"
   },
   "source": "## ハンズオン3: LLM を使った分析\n- AISQL を使った分析を試していく（詳細は後半のハンズオンにて）\n![img](https://lh3.googleusercontent.com/pw/AP1GczPEstMLsFYzhztvUUHigYdBALM3BDLmvKUQKWDMmCQKuebzruOhKZpKoZeMH1kcoVBil8SUwscciE4_z4AtPx6UrRPwfLt6nhJUS1Lg-q8arZy_TAW6-ZYLdGplQedh7XQxLIgcfYobF6Lk8jLAcn10=w1149-h646-s-no-gm?authuser=0)"
  },
  {
   "cell_type": "code",
   "id": "09670908-94b8-4e85-82ce-d6c9863637d6",
   "metadata": {
    "language": "sql",
    "name": "practice_aisql"
   },
   "outputs": [],
   "source": "-- SQL の場合\nselect AI_COMPLETE ('openai-gpt-4.1', 'Snowflakeの特徴を50字以内で教えてください。');",
   "execution_count": null
  },
  {
   "cell_type": "code",
   "id": "92657162-54a3-4db4-bd66-4b70706783dd",
   "metadata": {
    "language": "sql",
    "name": "ai_complete"
   },
   "outputs": [],
   "source": "-- AI_COMPLETEで分析（4秒ほどで出力）\n-- 最近200日間のデータをもとにAIが為替トレンドを分析\nWITH recent_data AS (\n    SELECT \n        ROUND(AVG(EXCHANGE_RATE), 2) AS avg_rate,\n        ROUND(MIN(EXCHANGE_RATE), 2) AS min_rate,\n        ROUND(MAX(EXCHANGE_RATE), 2) AS max_rate,\n        ROUND(STDDEV(EXCHANGE_RATE), 2) AS volatility,\n        ROUND(MAX(EXCHANGE_RATE) - MIN(EXCHANGE_RATE), 2) AS rate_range,\n        COUNT(*) AS trading_days\n    FROM FX_USDJPY_ANALYSIS\n    WHERE DATE >= CURRENT_DATE - 200\n)\nSELECT \n    AI_COMPLETE(\n        'openai-gpt-4.1',\n        CONCAT(\n            'あなたはウォール街の為替専門のエコノミストです。USD/JPY為替レートの最近30日間のデータを分析してください。',\n            '\\n\\n【データ概要】',\n            '\\n- 平均レート: ', avg_rate, '円',\n            '\\n- 最高値: ', max_rate, '円',\n            '\\n- 最安値: ', min_rate, '円',\n            '\\n- 変動幅: ', rate_range, '円',\n            '\\n- ボラティリティ(標準偏差): ', volatility,\n            '\\n- 取引日数: ', trading_days, '日',\n            '\\n\\n以下の観点から簡潔に分析してください：',\n            '\\n1. 現在の市場状況（2-3行）',\n            '\\n2. トレンドの方向性（2-3行）',\n            '\\n3. 注目すべきポイント（2-3行）'\n        )\n    ) AS ai_market_analysis\nFROM recent_data;",
   "execution_count": null
  },
  {
   "cell_type": "code",
   "id": "336b0c2a-f4c0-4d78-96fa-f8dae3c2e59a",
   "metadata": {
    "language": "sql",
    "name": "ai_filter"
   },
   "outputs": [],
   "source": "-- AI_FILTERを使って大きな変動があった日を検出(50秒ほどで出力)\nWITH daily_changes AS (\n    SELECT \n        DATE,\n        EXCHANGE_RATE,\n        DAILY_RETURN,\n        ABS(DAILY_RETURN) AS abs_return,\n        CONCAT(\n            '日付: ', DATE,\n            ', 為替レート: ', ROUND(EXCHANGE_RATE, 2), '円',\n            ', 日次変動率: ', ROUND(DAILY_RETURN, 2), '%'\n        ) AS change_description\n    FROM FX_USDJPY_ANALYSIS\n    WHERE DATE >= CURRENT_DATE - 365\n        AND DAILY_RETURN IS NOT NULL\n)\nSELECT \n    DATE,\n    ROUND(EXCHANGE_RATE, 2) AS RATE,\n    ROUND(DAILY_RETURN, 2) AS RETURN_PCT,\n    change_description\nFROM daily_changes\nWHERE AI_FILTER(\n    CONCAT('この日の為替相場で一般的に変動率は大きいか？（1%以上の変動または平均から大きく乖離）: ', change_description)\n)\nORDER BY DATE DESC\nLIMIT 10;",
   "execution_count": null
  },
  {
   "cell_type": "code",
   "id": "7db24823-9a7b-43d0-abf7-1a43c0ce9f77",
   "metadata": {
    "language": "sql",
    "name": "complete_and_filter"
   },
   "outputs": [],
   "source": "-- Step 1: AI_FILTERで異常変動日を検出\n-- Step 2: その日のデータをAI_COMPLETEで分析（1分ほどで出力）\nWITH anomaly_days AS (\n    SELECT \n        DATE,\n        EXCHANGE_RATE,\n        DAILY_RETURN,\n        MA_20,\n        CONCAT(\n            '日付: ', DATE, \n            ', レート: ', ROUND(EXCHANGE_RATE, 2), '円',\n            ', 日次変動: ', ROUND(DAILY_RETURN, 2), '%',\n            ', 20日平均との乖離: ', ROUND(((EXCHANGE_RATE - MA_20) / MA_20 * 100), 2), '%'\n        ) AS day_summary\n    FROM FX_USDJPY_ANALYSIS\n    WHERE DATE >= CURRENT_DATE - 365\n        AND DAILY_RETURN IS NOT NULL\n        AND MA_20 IS NOT NULL\n        AND AI_FILTER(\n            CONCAT(\n                'この日の為替相場で一般的に変動率は大きいか？（1%以上の変動または平均から大きく乖離）: ',\n                '日次変動率: ', ROUND(DAILY_RETURN, 2), '%'\n            )\n        )\n    ORDER BY DATE DESC\n    LIMIT 3\n)\nSELECT \n    DATE AS date,\n    ROUND(EXCHANGE_RATE, 2) AS rate,\n    ROUND(DAILY_RETURN, 2) AS pct_change,\n     AI_COMPLETE(\n        'openai-gpt-4.1',\n        CONCAT(\n            'あなたはウォール街の為替専門のエコノミストです。USD/JPY為替レートで以下の日に為替相場の一般的な市場において異常な変動がありました。',\n            '\\n\\n', day_summary,\n            '\\n\\nこの変動について、考えられる要因と注意点を2-3行で簡潔に説明してください。'\n        )\n    ) AS analysis_result\nFROM anomaly_days;",
   "execution_count": null
  }
 ]
}
